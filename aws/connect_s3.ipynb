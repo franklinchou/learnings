{
 "cells": [
  {
   "cell_type": "code",
   "execution_count": 1,
   "metadata": {},
   "outputs": [
    {
     "name": "stdout",
     "output_type": "stream",
     "text": [
      "{'ResponseMetadata': {'RequestId': '8D1E5F8010F070E6', 'HostId': 'oiSfWlJRuA4gTB1ENL2kUs82/v0qxv9VQ9oCLczTSLN00lBAF3R3vWdBvjyTn8IPatl9qb61xpY=', 'HTTPStatusCode': 200, 'HTTPHeaders': {'x-amz-id-2': 'oiSfWlJRuA4gTB1ENL2kUs82/v0qxv9VQ9oCLczTSLN00lBAF3R3vWdBvjyTn8IPatl9qb61xpY=', 'x-amz-request-id': '8D1E5F8010F070E6', 'date': 'Thu, 27 Feb 2020 14:36:13 GMT', 'x-amz-bucket-region': 'us-west-1', 'content-type': 'application/xml', 'transfer-encoding': 'chunked', 'server': 'AmazonS3'}, 'RetryAttempts': 1}, 'IsTruncated': False, 'Marker': '', 'Contents': [{'Key': 'peeriq/direct-drop/', 'LastModified': datetime.datetime(2020, 2, 21, 15, 20, 53, tzinfo=tzutc()), 'ETag': '\"d41d8cd98f00b204e9800998ecf8427e\"', 'Size': 0, 'StorageClass': 'STANDARD', 'Owner': {'DisplayName': 'dev', 'ID': '9cb63569a1687afada881fbff864c74aee2d5d146dc80c2c758d28ba88fb3567'}}, {'Key': 'peeriq/direct-drop/test.txt', 'LastModified': datetime.datetime(2020, 2, 21, 15, 34, 41, tzinfo=tzutc()), 'ETag': '\"d8e8fca2dc0f896fd7cb4cb0031ba249\"', 'Size': 5, 'StorageClass': 'STANDARD', 'Owner': {'DisplayName': 'dev', 'ID': '9cb63569a1687afada881fbff864c74aee2d5d146dc80c2c758d28ba88fb3567'}}], 'Name': 'theorem-warehouse', 'Prefix': 'peeriq/direct-drop/', 'Delimiter': '/', 'MaxKeys': 1000, 'CommonPrefixes': [{'Prefix': 'peeriq/direct-drop/2020-02-12 16:47:29/'}, {'Prefix': 'peeriq/direct-drop/2020-02-26 16:52:36/'}], 'EncodingType': 'url'}\n"
     ]
    }
   ],
   "source": [
    "import boto3\n",
    "\n",
    "import botocore\n",
    "\n",
    "bucket_url = 'theorem-warehouse'\n",
    "\n",
    "source_prefix = 'peeriq/direct-drop'\n",
    "\n",
    "\n",
    "client = boto3.client('s3')\n",
    "\n",
    "result = client.list_objects(Bucket=bucket_url,\n",
    "                             Prefix='peeriq/direct-drop/',\n",
    "                             Delimiter='/')\n",
    "\n",
    "print(result)\n"
   ]
  },
  {
   "cell_type": "code",
   "execution_count": 5,
   "metadata": {},
   "outputs": [
    {
     "data": {
      "text/plain": [
       "'Enabled'"
      ]
     },
     "execution_count": 5,
     "metadata": {},
     "output_type": "execute_result"
    }
   ],
   "source": [
    "# is bucket versioning enabled? \n",
    "\n",
    "client.get_bucket_versioning(Bucket=bucket_url)['Status']"
   ]
  },
  {
   "cell_type": "code",
   "execution_count": 6,
   "metadata": {},
   "outputs": [
    {
     "data": {
      "text/plain": [
       "{'ResponseMetadata': {'RequestId': '8D1E5F8010F070E6',\n",
       "  'HostId': 'oiSfWlJRuA4gTB1ENL2kUs82/v0qxv9VQ9oCLczTSLN00lBAF3R3vWdBvjyTn8IPatl9qb61xpY=',\n",
       "  'HTTPStatusCode': 200,\n",
       "  'HTTPHeaders': {'x-amz-id-2': 'oiSfWlJRuA4gTB1ENL2kUs82/v0qxv9VQ9oCLczTSLN00lBAF3R3vWdBvjyTn8IPatl9qb61xpY=',\n",
       "   'x-amz-request-id': '8D1E5F8010F070E6',\n",
       "   'date': 'Thu, 27 Feb 2020 14:36:13 GMT',\n",
       "   'x-amz-bucket-region': 'us-west-1',\n",
       "   'content-type': 'application/xml',\n",
       "   'transfer-encoding': 'chunked',\n",
       "   'server': 'AmazonS3'},\n",
       "  'RetryAttempts': 1},\n",
       " 'IsTruncated': False,\n",
       " 'Marker': '',\n",
       " 'Contents': [{'Key': 'peeriq/direct-drop/',\n",
       "   'LastModified': datetime.datetime(2020, 2, 21, 15, 20, 53, tzinfo=tzutc()),\n",
       "   'ETag': '\"d41d8cd98f00b204e9800998ecf8427e\"',\n",
       "   'Size': 0,\n",
       "   'StorageClass': 'STANDARD',\n",
       "   'Owner': {'DisplayName': 'dev',\n",
       "    'ID': '9cb63569a1687afada881fbff864c74aee2d5d146dc80c2c758d28ba88fb3567'}},\n",
       "  {'Key': 'peeriq/direct-drop/test.txt',\n",
       "   'LastModified': datetime.datetime(2020, 2, 21, 15, 34, 41, tzinfo=tzutc()),\n",
       "   'ETag': '\"d8e8fca2dc0f896fd7cb4cb0031ba249\"',\n",
       "   'Size': 5,\n",
       "   'StorageClass': 'STANDARD',\n",
       "   'Owner': {'DisplayName': 'dev',\n",
       "    'ID': '9cb63569a1687afada881fbff864c74aee2d5d146dc80c2c758d28ba88fb3567'}}],\n",
       " 'Name': 'theorem-warehouse',\n",
       " 'Prefix': 'peeriq/direct-drop/',\n",
       " 'Delimiter': '/',\n",
       " 'MaxKeys': 1000,\n",
       " 'CommonPrefixes': [{'Prefix': 'peeriq/direct-drop/2020-02-12 16:47:29/'},\n",
       "  {'Prefix': 'peeriq/direct-drop/2020-02-26 16:52:36/'}],\n",
       " 'EncodingType': 'url'}"
      ]
     },
     "execution_count": 6,
     "metadata": {},
     "output_type": "execute_result"
    }
   ],
   "source": [
    "result"
   ]
  },
  {
   "cell_type": "code",
   "execution_count": 4,
   "metadata": {},
   "outputs": [
    {
     "name": "stdout",
     "output_type": "stream",
     "text": [
      "peeriq/direct-drop/\n",
      "peeriq/direct-drop/test.txt\n"
     ]
    }
   ],
   "source": [
    "# list all files (including directories) in the bucket \n",
    "\n",
    "for content in result.get('Contents', []):\n",
    "    print(content.get('Key'))"
   ]
  },
  {
   "cell_type": "code",
   "execution_count": 21,
   "metadata": {},
   "outputs": [
    {
     "name": "stdout",
     "output_type": "stream",
     "text": [
      "{\"Version\":\"2012-10-17\",\"Statement\":[{\"Sid\":\"DelegateS3Access\",\"Effect\":\"Allow\",\"Principal\":{\"AWS\":\"arn:aws:iam::380796340905:root\"},\"Action\":[\"s3:ListBucket\",\"s3:GetObject\"],\"Resource\":[\"arn:aws:s3:::peeriq-theorem-ftp-data/*\",\"arn:aws:s3:::peeriq-theorem-ftp-data\"]}]}\n"
     ]
    }
   ],
   "source": [
    "peeriq_bucket_url = 'peeriq-theorem-ftp-data'\n",
    "\n",
    "r = client.get_bucket_policy(Bucket=peeriq_bucket_url)\n",
    "\n",
    "print(r['Policy'])"
   ]
  }
 ],
 "metadata": {
  "kernelspec": {
   "display_name": "Python 3",
   "language": "python",
   "name": "python3"
  },
  "language_info": {
   "codemirror_mode": {
    "name": "ipython",
    "version": 3
   },
   "file_extension": ".py",
   "mimetype": "text/x-python",
   "name": "python",
   "nbconvert_exporter": "python",
   "pygments_lexer": "ipython3",
   "version": "3.6.9"
  }
 },
 "nbformat": 4,
 "nbformat_minor": 4
}
