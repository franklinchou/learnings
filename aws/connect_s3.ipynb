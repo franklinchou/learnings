{
 "cells": [
  {
   "cell_type": "code",
   "execution_count": 18,
   "metadata": {},
   "outputs": [
    {
     "name": "stdout",
     "output_type": "stream",
     "text": [
      "{'ResponseMetadata': {'RequestId': '70C934272376197E', 'HostId': 'E3hoqqNsL/JTuJZf2jLE8Myvvtem2PHQq86w3Z0oYDiujPgqiT15ujGW010ybNLey7FRUCv1RDc=', 'HTTPStatusCode': 200, 'HTTPHeaders': {'x-amz-id-2': 'E3hoqqNsL/JTuJZf2jLE8Myvvtem2PHQq86w3Z0oYDiujPgqiT15ujGW010ybNLey7FRUCv1RDc=', 'x-amz-request-id': '70C934272376197E', 'date': 'Tue, 25 Feb 2020 17:27:24 GMT', 'x-amz-bucket-region': 'us-west-1', 'content-type': 'application/xml', 'transfer-encoding': 'chunked', 'server': 'AmazonS3'}, 'RetryAttempts': 1}, 'IsTruncated': False, 'Marker': '', 'Contents': [{'Key': 'peeriq/direct-drop/', 'LastModified': datetime.datetime(2020, 2, 21, 15, 20, 53, tzinfo=tzutc()), 'ETag': '\"d41d8cd98f00b204e9800998ecf8427e\"', 'Size': 0, 'StorageClass': 'STANDARD', 'Owner': {'DisplayName': 'dev', 'ID': '9cb63569a1687afada881fbff864c74aee2d5d146dc80c2c758d28ba88fb3567'}}, {'Key': 'peeriq/direct-drop/test.txt', 'LastModified': datetime.datetime(2020, 2, 21, 15, 34, 41, tzinfo=tzutc()), 'ETag': '\"d8e8fca2dc0f896fd7cb4cb0031ba249\"', 'Size': 5, 'StorageClass': 'STANDARD', 'Owner': {'DisplayName': 'dev', 'ID': '9cb63569a1687afada881fbff864c74aee2d5d146dc80c2c758d28ba88fb3567'}}], 'Name': 'theorem-warehouse', 'Prefix': 'peeriq/direct-drop/', 'Delimiter': '/', 'MaxKeys': 1000, 'CommonPrefixes': [{'Prefix': 'peeriq/direct-drop/2020-02-12 16:47:29/'}], 'EncodingType': 'url'}\n"
     ]
    }
   ],
   "source": [
    "import boto3\n",
    "\n",
    "import botocore\n",
    "\n",
    "bucket_url = 'theorem-warehouse'\n",
    "\n",
    "source_prefix = 'peeriq/direct-drop'\n",
    "\n",
    "\n",
    "client = boto3.client('s3')\n",
    "\n",
    "result = client.list_objects(Bucket=bucket_url,\n",
    "                             Prefix='peeriq/direct-drop/',\n",
    "                             Delimiter='/')\n",
    "\n",
    "print(result)\n"
   ]
  },
  {
   "cell_type": "code",
   "execution_count": 19,
   "metadata": {},
   "outputs": [
    {
     "data": {
      "text/plain": [
       "'Enabled'"
      ]
     },
     "execution_count": 19,
     "metadata": {},
     "output_type": "execute_result"
    }
   ],
   "source": [
    "# is bucket versioning enabled? \n",
    "\n",
    "client.get_bucket_versioning(Bucket=bucket_url)['Status']"
   ]
  },
  {
   "cell_type": "code",
   "execution_count": 20,
   "metadata": {},
   "outputs": [
    {
     "name": "stdout",
     "output_type": "stream",
     "text": [
      "peeriq/direct-drop/\n",
      "peeriq/direct-drop/test.txt\n"
     ]
    }
   ],
   "source": [
    "# list all files (including directories) in the bucket \n",
    "\n",
    "for content in result.get('Contents', []):\n",
    "    print(content.get('Key'))"
   ]
  },
  {
   "cell_type": "code",
   "execution_count": 21,
   "metadata": {},
   "outputs": [
    {
     "name": "stdout",
     "output_type": "stream",
     "text": [
      "{\"Version\":\"2012-10-17\",\"Statement\":[{\"Sid\":\"DelegateS3Access\",\"Effect\":\"Allow\",\"Principal\":{\"AWS\":\"arn:aws:iam::380796340905:root\"},\"Action\":[\"s3:ListBucket\",\"s3:GetObject\"],\"Resource\":[\"arn:aws:s3:::peeriq-theorem-ftp-data/*\",\"arn:aws:s3:::peeriq-theorem-ftp-data\"]}]}\n"
     ]
    }
   ],
   "source": [
    "peeriq_bucket_url = 'peeriq-theorem-ftp-data'\n",
    "\n",
    "r = client.get_bucket_policy(Bucket=peeriq_bucket_url)\n",
    "\n",
    "print(r['Policy'])"
   ]
  }
 ],
 "metadata": {
  "kernelspec": {
   "display_name": "Python 3",
   "language": "python",
   "name": "python3"
  },
  "language_info": {
   "codemirror_mode": {
    "name": "ipython",
    "version": 3
   },
   "file_extension": ".py",
   "mimetype": "text/x-python",
   "name": "python",
   "nbconvert_exporter": "python",
   "pygments_lexer": "ipython3",
   "version": "3.6.9"
  }
 },
 "nbformat": 4,
 "nbformat_minor": 4
}
