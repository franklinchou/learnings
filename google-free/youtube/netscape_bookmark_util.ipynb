{
 "cells": [
  {
   "cell_type": "code",
   "execution_count": null,
   "metadata": {},
   "outputs": [],
   "source": [
    "# Utilities for converting ISO 8601 datetime format\n",
    "\n",
    "from datetime import datetime\n",
    "\n",
    "def _to_unix_time(iso_time) -> int:\n",
    "    # The Python datetime library doesn't support the military timezone suffixes\n",
    "    # (which actually violates the ISO 8601 standard).\n",
    "    strip_time_zone = iso_time.replace('Z', '+00:00')\n",
    "    dt = datetime.fromisoformat(strip_time_zone)\n",
    "    return(int(dt.timestamp()))\n",
    "    "
   ]
  },
  {
   "cell_type": "code",
   "execution_count": 1,
   "metadata": {},
   "outputs": [],
   "source": [
    "# Interface for dumping data to the Netscape bookmark format\n",
    "\n",
    "import os\n",
    "\n",
    "def _create_entry(collection_item):\n",
    "    '''\n",
    "    collection_item with the format:\n",
    "    {\n",
    "        'title': {{title}},\n",
    "        'updated-at': {{updated-at (ISO time stamp)}},\n",
    "        'url': {{url}}\n",
    "\n",
    "    }\n",
    "    '''\n",
    "    title = collection_item['title']\n",
    "    updated_at = _to_unix_time(collection_item['updated_at'])\n",
    "    url = collection_item['url']\n",
    "\n",
    "    return f'<DT><A HREF=\"{url}\" ADD_DATE=\"{updated_at}\">{title}</A></DT>'\n",
    "\n",
    "class Bookmarks(object):\n",
    "    \n",
    "    def __init__(self, file_name):\n",
    "        self.file_name = file_name\n",
    "        \n",
    "        # delete the bookmark file if it exists\n",
    "        # fresh start will prevent clashes when new items are appended\n",
    "        if os.path.exists(file_name):\n",
    "            os.remove(file_name)\n",
    "        \n",
    "        with open(self.file_name, 'a+') as fp:\n",
    "            fp.write('<!DOCTYPE NETSCAPE-Bookmark-file-1>')\n",
    "            fp.write('<META HTTP-EQUIV=\"Content-Type\" CONTENT=\"text/html; charset=UTF-8\">')\n",
    "            fp.write('<TITLE>Bookmarks</TITLE>')\n",
    "            fp.write('<H1>Bookmarks Menu</H1>')\n",
    "    \n",
    "    \n",
    "    def _validate(collection_item):\n",
    "        pass\n",
    "        \n",
    "\n",
    "    # collection = 2 tuple comprising:\n",
    "    # collection_name = youtube playlist name\n",
    "    # collection_entires = list of dictionaries with certain attributes filled\n",
    "    def add_collection(self, collection):\n",
    "        collection_name, collection_entries = collection\n",
    "        with open(self.file_name, 'a+') as fp:\n",
    "            fp.write('<DL><p>')\n",
    "            fp.write(f'<DT><H3>{collection_name}</H3>')\n",
    "            for i in collection_entries:\n",
    "                fp.write(_create_entry(i))\n",
    "            fp.write('</DL><p>')\n",
    "    \n",
    "    \n",
    "    def flush(self):\n",
    "        with open(self.file_name,'a+') as fp:\n",
    "            fp.write('</DL>')\n",
    "        "
   ]
  },
  {
   "cell_type": "code",
   "execution_count": null,
   "metadata": {},
   "outputs": [],
   "source": [
    "bk = Bookmarks('bookmarks.html')"
   ]
  },
  {
   "cell_type": "code",
   "execution_count": null,
   "metadata": {},
   "outputs": [],
   "source": []
  }
 ],
 "metadata": {
  "kernelspec": {
   "display_name": "Python 3",
   "language": "python",
   "name": "python3"
  },
  "language_info": {
   "codemirror_mode": {
    "name": "ipython",
    "version": 3
   },
   "file_extension": ".py",
   "mimetype": "text/x-python",
   "name": "python",
   "nbconvert_exporter": "python",
   "pygments_lexer": "ipython3",
   "version": "3.7.5"
  }
 },
 "nbformat": 4,
 "nbformat_minor": 4
}
