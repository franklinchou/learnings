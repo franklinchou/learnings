{
 "cells": [
  {
   "cell_type": "code",
   "execution_count": null,
   "metadata": {},
   "outputs": [],
   "source": [
    "# Interface for dumping data to the Netscape bookmark format\n",
    "\n",
    "\n",
    "class Bookmarks:\n",
    "    \n",
    "    def __init__():\n",
    "        # insert headers etc.\n",
    "        pass\n",
    "\n",
    "\n",
    "    # collection_name = youtube playlist name\n",
    "    # collection = list of dictionaries with certain attributes filled\n",
    "    # ADD_DATE is in Unix time\n",
    "    def dump_collection_to_file(collection_name, collection):\n",
    "        pass\n",
    "    \n"
   ]
  }
 ],
 "metadata": {
  "kernelspec": {
   "display_name": "Python 3",
   "language": "python",
   "name": "python3"
  },
  "language_info": {
   "codemirror_mode": {
    "name": "ipython",
    "version": 3
   },
   "file_extension": ".py",
   "mimetype": "text/x-python",
   "name": "python",
   "nbconvert_exporter": "python",
   "pygments_lexer": "ipython3",
   "version": "3.6.9"
  }
 },
 "nbformat": 4,
 "nbformat_minor": 4
}
